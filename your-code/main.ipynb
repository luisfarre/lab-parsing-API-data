{
 "cells": [
  {
   "cell_type": "markdown",
   "metadata": {},
   "source": [
    "# Challenge: Promotions\n",
    "\n",
    "In this challenge, you'll develop codes to parse and analyze data returned from another API on Zalando such as [Promos homme (Men's Promotions)\n",
    "](https://www.zalando.fr/promo-homme/) or [Promos femme (Women's Promotions)](https://www.zalando.fr/promo-femme/). The workflow is almost the same as in the guided lesson but you'll work with different data."
   ]
  },
  {
   "cell_type": "markdown",
   "metadata": {},
   "source": [
    "## Obtaining the link\n",
    "\n",
    "Wrote your codes in the cell below to obtain the data from the API endpoint you choose. A recap of the workflow:\n",
    "\n",
    "1. Examine the webpages and choose one that you want to work with.\n",
    "\n",
    "1. Use Google Chrome's DevTools to inspect the XHR network requests. Find out the API endpoint that serves data to the webpage.\n",
    "\n",
    "1. Test the API endpoint in the browser to verify its data.\n",
    "\n",
    "1. Change the page number offset of the API URL to test if it's working."
   ]
  },
  {
   "cell_type": "code",
   "execution_count": 1,
   "metadata": {
    "ExecuteTime": {
     "end_time": "2020-02-08T17:35:50.516306Z",
     "start_time": "2020-02-08T17:35:50.067363Z"
    }
   },
   "outputs": [],
   "source": [
    "# your code here\n",
    "import json\n",
    "import requests\n",
    "import pandas as pd\n",
    "from pandas.io.json import json_normalize"
   ]
  },
  {
   "cell_type": "code",
   "execution_count": 2,
   "metadata": {
    "ExecuteTime": {
     "end_time": "2020-02-08T17:35:50.878874Z",
     "start_time": "2020-02-08T17:35:50.873340Z"
    }
   },
   "outputs": [],
   "source": [
    "url='https://www.zalando.fr/api/catalog/articles?categories=promo-sport-homme&limit=84&offset=84&sort=sale'\n",
    "headers = {'user-agent': 'Mozilla/5.0 (Macintosh; Intel Mac OS X 10_14_6) AppleWebKit/537.36 (KHTML, like Gecko) Chrome/79.0.3945.130 Safari/537.36'}\n"
   ]
  },
  {
   "cell_type": "code",
   "execution_count": 3,
   "metadata": {
    "ExecuteTime": {
     "end_time": "2020-02-08T17:35:52.661412Z",
     "start_time": "2020-02-08T17:35:52.051166Z"
    }
   },
   "outputs": [
    {
     "data": {
      "text/plain": [
       "<Response [200]>"
      ]
     },
     "execution_count": 3,
     "metadata": {},
     "output_type": "execute_result"
    }
   ],
   "source": [
    "response = requests.get(url,headers=headers)\n",
    "response"
   ]
  },
  {
   "cell_type": "code",
   "execution_count": 4,
   "metadata": {
    "ExecuteTime": {
     "end_time": "2020-02-08T17:35:53.791983Z",
     "start_time": "2020-02-08T17:35:53.527160Z"
    }
   },
   "outputs": [
    {
     "data": {
      "text/html": [
       "<div>\n",
       "<style scoped>\n",
       "    .dataframe tbody tr th:only-of-type {\n",
       "        vertical-align: middle;\n",
       "    }\n",
       "\n",
       "    .dataframe tbody tr th {\n",
       "        vertical-align: top;\n",
       "    }\n",
       "\n",
       "    .dataframe thead th {\n",
       "        text-align: right;\n",
       "    }\n",
       "</style>\n",
       "<table border=\"1\" class=\"dataframe\">\n",
       "  <thead>\n",
       "    <tr style=\"text-align: right;\">\n",
       "      <th></th>\n",
       "      <th>total_count</th>\n",
       "      <th>sort</th>\n",
       "      <th>articles</th>\n",
       "      <th>query_path</th>\n",
       "      <th>previous_page_path</th>\n",
       "      <th>next_page_path</th>\n",
       "      <th>page_gender</th>\n",
       "      <th>premium</th>\n",
       "      <th>filters</th>\n",
       "      <th>total_article_count</th>\n",
       "      <th>...</th>\n",
       "      <th>iconPaths.filters.standard_delivery_filter</th>\n",
       "      <th>iconPaths.filters.fast_delivery_filter</th>\n",
       "      <th>iconPaths.filters.zalando_plus</th>\n",
       "      <th>iconPaths.mobileFilters.standard_delivery_filter</th>\n",
       "      <th>iconPaths.mobileFilters.fast_delivery_filter</th>\n",
       "      <th>iconPaths.mobileFilters.zalando_plus</th>\n",
       "      <th>iconPaths.flags.slow_delivery_flag</th>\n",
       "      <th>iconPaths.flags.fast_delivery_flag</th>\n",
       "      <th>iconPaths.flags.plus_delivery_flag</th>\n",
       "      <th>iconPaths.flags.zalando_plus</th>\n",
       "    </tr>\n",
       "  </thead>\n",
       "  <tbody>\n",
       "    <tr>\n",
       "      <th>0</th>\n",
       "      <td>5850</td>\n",
       "      <td>sale</td>\n",
       "      <td>[{'sku': 'N1242A1R4-K11', 'name': 'JOYRIDE RUN...</td>\n",
       "      <td>/promo-sport-homme/?p=2&amp;order=sale</td>\n",
       "      <td>/promo-sport-homme/?order=sale</td>\n",
       "      <td>/promo-sport-homme/?p=3&amp;order=sale</td>\n",
       "      <td>men</td>\n",
       "      <td>False</td>\n",
       "      <td>[{'key': 'sizes', 'label': 'Taille', 'url_key'...</td>\n",
       "      <td>5852</td>\n",
       "      <td>...</td>\n",
       "      <td>icons/truck.svg</td>\n",
       "      <td>icons/truck-fast.svg</td>\n",
       "      <td>icons/plus-short-1.svg</td>\n",
       "      <td>icons/truck.svg</td>\n",
       "      <td>icons/truck-fast.svg</td>\n",
       "      <td>icons/plus-short-1.svg</td>\n",
       "      <td>icons/clock.svg</td>\n",
       "      <td>icons/truck-fast-orange-3.svg</td>\n",
       "      <td>icons/plus-short-1.svg</td>\n",
       "      <td>icons/zalando-plus.svg</td>\n",
       "    </tr>\n",
       "  </tbody>\n",
       "</table>\n",
       "<p>1 rows × 77 columns</p>\n",
       "</div>"
      ],
      "text/plain": [
       "   total_count  sort                                           articles  \\\n",
       "0         5850  sale  [{'sku': 'N1242A1R4-K11', 'name': 'JOYRIDE RUN...   \n",
       "\n",
       "                           query_path              previous_page_path  \\\n",
       "0  /promo-sport-homme/?p=2&order=sale  /promo-sport-homme/?order=sale   \n",
       "\n",
       "                       next_page_path page_gender  premium  \\\n",
       "0  /promo-sport-homme/?p=3&order=sale         men    False   \n",
       "\n",
       "                                             filters  total_article_count  \\\n",
       "0  [{'key': 'sizes', 'label': 'Taille', 'url_key'...                 5852   \n",
       "\n",
       "   ... iconPaths.filters.standard_delivery_filter  \\\n",
       "0  ...                            icons/truck.svg   \n",
       "\n",
       "  iconPaths.filters.fast_delivery_filter iconPaths.filters.zalando_plus  \\\n",
       "0                   icons/truck-fast.svg         icons/plus-short-1.svg   \n",
       "\n",
       "  iconPaths.mobileFilters.standard_delivery_filter  \\\n",
       "0                                  icons/truck.svg   \n",
       "\n",
       "   iconPaths.mobileFilters.fast_delivery_filter  \\\n",
       "0                          icons/truck-fast.svg   \n",
       "\n",
       "  iconPaths.mobileFilters.zalando_plus iconPaths.flags.slow_delivery_flag  \\\n",
       "0               icons/plus-short-1.svg                    icons/clock.svg   \n",
       "\n",
       "   iconPaths.flags.fast_delivery_flag iconPaths.flags.plus_delivery_flag  \\\n",
       "0       icons/truck-fast-orange-3.svg             icons/plus-short-1.svg   \n",
       "\n",
       "   iconPaths.flags.zalando_plus  \n",
       "0        icons/zalando-plus.svg  \n",
       "\n",
       "[1 rows x 77 columns]"
      ]
     },
     "execution_count": 4,
     "metadata": {},
     "output_type": "execute_result"
    }
   ],
   "source": [
    "result=response.json()\n",
    "result\n",
    "data=pd.DataFrame(json_normalize(result))\n",
    "data.head()"
   ]
  },
  {
   "cell_type": "markdown",
   "metadata": {},
   "source": [
    "## Reading the data\n",
    "\n",
    "In the next cell, use Python to obtain data from the API endpoint you chose in the previous step. Workflow:\n",
    "\n",
    "1. Import libraries.\n",
    "\n",
    "1. Define the initial API endpoint URL.\n",
    "\n",
    "1. Make request to obtain data of the 1st page. Flatten the data and store it in an empty object variable.\n",
    "\n",
    "1. Find out the total page count in the 1st page data.\n",
    "\n",
    "1. Use a FOR loop to make requests for the additional pages from 2 to page count. Append the data of each additional page to the flatterned data object.\n",
    "\n",
    "1. Print and review the data you obtained."
   ]
  },
  {
   "cell_type": "code",
   "execution_count": 5,
   "metadata": {
    "ExecuteTime": {
     "end_time": "2020-02-08T17:35:55.182865Z",
     "start_time": "2020-02-08T17:35:55.088398Z"
    }
   },
   "outputs": [
    {
     "data": {
      "text/html": [
       "<div>\n",
       "<style scoped>\n",
       "    .dataframe tbody tr th:only-of-type {\n",
       "        vertical-align: middle;\n",
       "    }\n",
       "\n",
       "    .dataframe tbody tr th {\n",
       "        vertical-align: top;\n",
       "    }\n",
       "\n",
       "    .dataframe thead th {\n",
       "        text-align: right;\n",
       "    }\n",
       "</style>\n",
       "<table border=\"1\" class=\"dataframe\">\n",
       "  <thead>\n",
       "    <tr style=\"text-align: right;\">\n",
       "      <th></th>\n",
       "      <th>sku</th>\n",
       "      <th>name</th>\n",
       "      <th>sizes</th>\n",
       "      <th>url_key</th>\n",
       "      <th>media</th>\n",
       "      <th>brand_name</th>\n",
       "      <th>is_premium</th>\n",
       "      <th>family_articles</th>\n",
       "      <th>flags</th>\n",
       "      <th>product_group</th>\n",
       "      <th>amount</th>\n",
       "      <th>delivery_promises</th>\n",
       "      <th>price.original</th>\n",
       "      <th>price.promotional</th>\n",
       "      <th>price.has_different_prices</th>\n",
       "      <th>price.has_different_original_prices</th>\n",
       "      <th>price.has_different_promotional_prices</th>\n",
       "      <th>price.has_discount_on_selected_sizes_only</th>\n",
       "    </tr>\n",
       "  </thead>\n",
       "  <tbody>\n",
       "    <tr>\n",
       "      <th>0</th>\n",
       "      <td>N1242A1R4-K11</td>\n",
       "      <td>JOYRIDE RUN FK - Chaussures de running neutres...</td>\n",
       "      <td>[38.5, 40, 40.5, 41, 42, 42.5, 43, 44, 44.5, 4...</td>\n",
       "      <td>nike-performance-joyride-run-chaussures-de-run...</td>\n",
       "      <td>[{'path': 'N1/24/2A/1R/4K/11/N1242A1R4-K11@5.j...</td>\n",
       "      <td>Nike Performance</td>\n",
       "      <td>False</td>\n",
       "      <td>[{'sku': 'N1242A1R4-K11', 'url_key': 'nike-per...</td>\n",
       "      <td>[{'key': 'discountRate', 'value': 'Jusqu’à -30...</td>\n",
       "      <td>shoe</td>\n",
       "      <td>325 g</td>\n",
       "      <td>[]</td>\n",
       "      <td>179,95 €</td>\n",
       "      <td>125,95 €</td>\n",
       "      <td>True</td>\n",
       "      <td>False</td>\n",
       "      <td>True</td>\n",
       "      <td>False</td>\n",
       "    </tr>\n",
       "  </tbody>\n",
       "</table>\n",
       "</div>"
      ],
      "text/plain": [
       "             sku                                               name  \\\n",
       "0  N1242A1R4-K11  JOYRIDE RUN FK - Chaussures de running neutres...   \n",
       "\n",
       "                                               sizes  \\\n",
       "0  [38.5, 40, 40.5, 41, 42, 42.5, 43, 44, 44.5, 4...   \n",
       "\n",
       "                                             url_key  \\\n",
       "0  nike-performance-joyride-run-chaussures-de-run...   \n",
       "\n",
       "                                               media        brand_name  \\\n",
       "0  [{'path': 'N1/24/2A/1R/4K/11/N1242A1R4-K11@5.j...  Nike Performance   \n",
       "\n",
       "   is_premium                                    family_articles  \\\n",
       "0       False  [{'sku': 'N1242A1R4-K11', 'url_key': 'nike-per...   \n",
       "\n",
       "                                               flags product_group amount  \\\n",
       "0  [{'key': 'discountRate', 'value': 'Jusqu’à -30...          shoe  325 g   \n",
       "\n",
       "  delivery_promises price.original price.promotional  \\\n",
       "0                []       179,95 €          125,95 €   \n",
       "\n",
       "   price.has_different_prices  price.has_different_original_prices  \\\n",
       "0                        True                                False   \n",
       "\n",
       "   price.has_different_promotional_prices  \\\n",
       "0                                    True   \n",
       "\n",
       "   price.has_discount_on_selected_sizes_only  \n",
       "0                                      False  "
      ]
     },
     "execution_count": 5,
     "metadata": {},
     "output_type": "execute_result"
    }
   ],
   "source": [
    "# your code here\n",
    "data2=json_normalize(data['articles'][0])\n",
    "data2.head(1)"
   ]
  },
  {
   "cell_type": "code",
   "execution_count": 6,
   "metadata": {
    "ExecuteTime": {
     "end_time": "2020-02-08T17:35:56.237775Z",
     "start_time": "2020-02-08T17:35:56.230393Z"
    }
   },
   "outputs": [
    {
     "data": {
      "text/plain": [
       "5850"
      ]
     },
     "execution_count": 6,
     "metadata": {},
     "output_type": "execute_result"
    }
   ],
   "source": [
    "total_articles=result['total_count']\n",
    "\n",
    "total_articles"
   ]
  },
  {
   "cell_type": "code",
   "execution_count": 7,
   "metadata": {
    "ExecuteTime": {
     "end_time": "2020-02-08T17:35:57.262673Z",
     "start_time": "2020-02-08T17:35:57.254269Z"
    }
   },
   "outputs": [
    {
     "data": {
      "text/plain": [
       "84"
      ]
     },
     "execution_count": 7,
     "metadata": {},
     "output_type": "execute_result"
    }
   ],
   "source": [
    "articles_page=result['pagination']['per_page']\n",
    "articles_page"
   ]
  },
  {
   "cell_type": "code",
   "execution_count": 9,
   "metadata": {
    "ExecuteTime": {
     "end_time": "2020-02-08T17:37:10.548468Z",
     "start_time": "2020-02-08T17:36:34.335195Z"
    }
   },
   "outputs": [],
   "source": [
    "total_articles=result['total_count']\n",
    "articles_page=result['pagination']['per_page']\n",
    "\n",
    "calls_api=[i for i in range(84,total_articles+1,articles_page)]\n",
    "calls_api.append(total_articles-calls_api[-1]+calls_api[-1])\n",
    "final_result=pd.DataFrame()\n",
    "for i in calls_api:\n",
    "    if i%84==0:\n",
    "        url=f'https://www.zalando.fr/api/catalog/articles?categories=promo-sport-homme&limit=84&offset={i}&sort=sale'\n",
    "    else:\n",
    "        x=calls_api[-1]-calls_api[-2]\n",
    "        url=f'https://www.zalando.fr/api/catalog/articles?categories=promo-sport-homme&limit={x}&offset={i}&sort=sale'        \n",
    "    \n",
    "    response = requests.get(url,headers=headers)\n",
    "    result=response.json()\n",
    "    data=pd.DataFrame(json_normalize(result))\n",
    "    data2=json_normalize(data['articles'][0])\n",
    "    final_result=final_result.append(data2)\n",
    "    "
   ]
  },
  {
   "cell_type": "code",
   "execution_count": 10,
   "metadata": {
    "ExecuteTime": {
     "end_time": "2020-02-08T17:37:13.657423Z",
     "start_time": "2020-02-08T17:37:13.602143Z"
    }
   },
   "outputs": [
    {
     "data": {
      "text/html": [
       "<div>\n",
       "<style scoped>\n",
       "    .dataframe tbody tr th:only-of-type {\n",
       "        vertical-align: middle;\n",
       "    }\n",
       "\n",
       "    .dataframe tbody tr th {\n",
       "        vertical-align: top;\n",
       "    }\n",
       "\n",
       "    .dataframe thead th {\n",
       "        text-align: right;\n",
       "    }\n",
       "</style>\n",
       "<table border=\"1\" class=\"dataframe\">\n",
       "  <thead>\n",
       "    <tr style=\"text-align: right;\">\n",
       "      <th></th>\n",
       "      <th>amount</th>\n",
       "      <th>brand_name</th>\n",
       "      <th>delivery_promises</th>\n",
       "      <th>family_articles</th>\n",
       "      <th>flags</th>\n",
       "      <th>is_premium</th>\n",
       "      <th>media</th>\n",
       "      <th>name</th>\n",
       "      <th>outfits</th>\n",
       "      <th>price.has_different_original_prices</th>\n",
       "      <th>price.has_different_prices</th>\n",
       "      <th>price.has_different_promotional_prices</th>\n",
       "      <th>price.has_discount_on_selected_sizes_only</th>\n",
       "      <th>price.original</th>\n",
       "      <th>price.promotional</th>\n",
       "      <th>product_group</th>\n",
       "      <th>sizes</th>\n",
       "      <th>sku</th>\n",
       "      <th>url_key</th>\n",
       "    </tr>\n",
       "  </thead>\n",
       "  <tbody>\n",
       "    <tr>\n",
       "      <th>0</th>\n",
       "      <td>325 g</td>\n",
       "      <td>Nike Performance</td>\n",
       "      <td>[]</td>\n",
       "      <td>[{'sku': 'N1242A1R4-K11', 'url_key': 'nike-per...</td>\n",
       "      <td>[{'key': 'discountRate', 'value': 'Jusqu’à -30...</td>\n",
       "      <td>False</td>\n",
       "      <td>[{'path': 'N1/24/2A/1R/4K/11/N1242A1R4-K11@5.j...</td>\n",
       "      <td>JOYRIDE RUN FK - Chaussures de running neutres...</td>\n",
       "      <td>NaN</td>\n",
       "      <td>False</td>\n",
       "      <td>True</td>\n",
       "      <td>True</td>\n",
       "      <td>False</td>\n",
       "      <td>179,95 €</td>\n",
       "      <td>125,95 €</td>\n",
       "      <td>shoe</td>\n",
       "      <td>[38.5, 40, 40.5, 41, 42, 42.5, 43, 44, 44.5, 4...</td>\n",
       "      <td>N1242A1R4-K11</td>\n",
       "      <td>nike-performance-joyride-run-chaussures-de-run...</td>\n",
       "    </tr>\n",
       "  </tbody>\n",
       "</table>\n",
       "</div>"
      ],
      "text/plain": [
       "  amount        brand_name delivery_promises  \\\n",
       "0  325 g  Nike Performance                []   \n",
       "\n",
       "                                     family_articles  \\\n",
       "0  [{'sku': 'N1242A1R4-K11', 'url_key': 'nike-per...   \n",
       "\n",
       "                                               flags  is_premium  \\\n",
       "0  [{'key': 'discountRate', 'value': 'Jusqu’à -30...       False   \n",
       "\n",
       "                                               media  \\\n",
       "0  [{'path': 'N1/24/2A/1R/4K/11/N1242A1R4-K11@5.j...   \n",
       "\n",
       "                                                name outfits  \\\n",
       "0  JOYRIDE RUN FK - Chaussures de running neutres...     NaN   \n",
       "\n",
       "   price.has_different_original_prices  price.has_different_prices  \\\n",
       "0                                False                        True   \n",
       "\n",
       "   price.has_different_promotional_prices  \\\n",
       "0                                    True   \n",
       "\n",
       "   price.has_discount_on_selected_sizes_only price.original price.promotional  \\\n",
       "0                                      False       179,95 €          125,95 €   \n",
       "\n",
       "  product_group                                              sizes  \\\n",
       "0          shoe  [38.5, 40, 40.5, 41, 42, 42.5, 43, 44, 44.5, 4...   \n",
       "\n",
       "             sku                                            url_key  \n",
       "0  N1242A1R4-K11  nike-performance-joyride-run-chaussures-de-run...  "
      ]
     },
     "execution_count": 10,
     "metadata": {},
     "output_type": "execute_result"
    }
   ],
   "source": [
    "final_result.head(1)"
   ]
  },
  {
   "cell_type": "markdown",
   "metadata": {},
   "source": [
    "## Bonus\n",
    "\n",
    "Extract the following information from the data:\n",
    "\n",
    "* The trending brand.\n",
    "\n",
    "* The product(s) with the highest discount.\n",
    "\n",
    "* The sum of discounts of all goods (sum_discounted_prices divided by sum_original_prices)."
   ]
  },
  {
   "cell_type": "code",
   "execution_count": 11,
   "metadata": {
    "ExecuteTime": {
     "end_time": "2020-02-08T17:37:15.344314Z",
     "start_time": "2020-02-08T17:37:15.312613Z"
    }
   },
   "outputs": [
    {
     "data": {
      "text/html": [
       "<div>\n",
       "<style scoped>\n",
       "    .dataframe tbody tr th:only-of-type {\n",
       "        vertical-align: middle;\n",
       "    }\n",
       "\n",
       "    .dataframe tbody tr th {\n",
       "        vertical-align: top;\n",
       "    }\n",
       "\n",
       "    .dataframe thead th {\n",
       "        text-align: right;\n",
       "    }\n",
       "</style>\n",
       "<table border=\"1\" class=\"dataframe\">\n",
       "  <thead>\n",
       "    <tr style=\"text-align: right;\">\n",
       "      <th></th>\n",
       "      <th>brand_name</th>\n",
       "      <th>Num_Items</th>\n",
       "    </tr>\n",
       "  </thead>\n",
       "  <tbody>\n",
       "    <tr>\n",
       "      <th>100</th>\n",
       "      <td>Nike Performance</td>\n",
       "      <td>974</td>\n",
       "    </tr>\n",
       "    <tr>\n",
       "      <th>157</th>\n",
       "      <td>adidas Performance</td>\n",
       "      <td>616</td>\n",
       "    </tr>\n",
       "    <tr>\n",
       "      <th>115</th>\n",
       "      <td>Puma</td>\n",
       "      <td>345</td>\n",
       "    </tr>\n",
       "    <tr>\n",
       "      <th>147</th>\n",
       "      <td>Under Armour</td>\n",
       "      <td>236</td>\n",
       "    </tr>\n",
       "    <tr>\n",
       "      <th>139</th>\n",
       "      <td>The North Face</td>\n",
       "      <td>174</td>\n",
       "    </tr>\n",
       "    <tr>\n",
       "      <th>27</th>\n",
       "      <td>Columbia</td>\n",
       "      <td>169</td>\n",
       "    </tr>\n",
       "    <tr>\n",
       "      <th>117</th>\n",
       "      <td>Quiksilver</td>\n",
       "      <td>152</td>\n",
       "    </tr>\n",
       "    <tr>\n",
       "      <th>24</th>\n",
       "      <td>Champion</td>\n",
       "      <td>120</td>\n",
       "    </tr>\n",
       "    <tr>\n",
       "      <th>98</th>\n",
       "      <td>New Era</td>\n",
       "      <td>100</td>\n",
       "    </tr>\n",
       "    <tr>\n",
       "      <th>3</th>\n",
       "      <td>ASICS</td>\n",
       "      <td>100</td>\n",
       "    </tr>\n",
       "  </tbody>\n",
       "</table>\n",
       "</div>"
      ],
      "text/plain": [
       "             brand_name  Num_Items\n",
       "100    Nike Performance        974\n",
       "157  adidas Performance        616\n",
       "115                Puma        345\n",
       "147        Under Armour        236\n",
       "139      The North Face        174\n",
       "27             Columbia        169\n",
       "117          Quiksilver        152\n",
       "24             Champion        120\n",
       "98              New Era        100\n",
       "3                 ASICS        100"
      ]
     },
     "execution_count": 11,
     "metadata": {},
     "output_type": "execute_result"
    }
   ],
   "source": [
    "# your code here\n",
    "Brand = final_result.groupby('brand_name', as_index=False)['sku'].count()\n",
    "Brand=Brand.rename(columns={\"sku\": \"Num_Items\"})\n",
    "Brand.sort_values(by=['Num_Items'], ascending=False).head(10)"
   ]
  },
  {
   "cell_type": "code",
   "execution_count": 12,
   "metadata": {
    "ExecuteTime": {
     "end_time": "2020-02-08T17:37:18.922673Z",
     "start_time": "2020-02-08T17:37:18.816775Z"
    }
   },
   "outputs": [
    {
     "data": {
      "text/html": [
       "<div>\n",
       "<style scoped>\n",
       "    .dataframe tbody tr th:only-of-type {\n",
       "        vertical-align: middle;\n",
       "    }\n",
       "\n",
       "    .dataframe tbody tr th {\n",
       "        vertical-align: top;\n",
       "    }\n",
       "\n",
       "    .dataframe thead th {\n",
       "        text-align: right;\n",
       "    }\n",
       "</style>\n",
       "<table border=\"1\" class=\"dataframe\">\n",
       "  <thead>\n",
       "    <tr style=\"text-align: right;\">\n",
       "      <th></th>\n",
       "      <th>amount</th>\n",
       "      <th>brand_name</th>\n",
       "      <th>delivery_promises</th>\n",
       "      <th>family_articles</th>\n",
       "      <th>flags</th>\n",
       "      <th>is_premium</th>\n",
       "      <th>media</th>\n",
       "      <th>name</th>\n",
       "      <th>outfits</th>\n",
       "      <th>price.has_different_original_prices</th>\n",
       "      <th>price.has_different_prices</th>\n",
       "      <th>price.has_different_promotional_prices</th>\n",
       "      <th>price.has_discount_on_selected_sizes_only</th>\n",
       "      <th>price.original</th>\n",
       "      <th>price.promotional</th>\n",
       "      <th>product_group</th>\n",
       "      <th>sizes</th>\n",
       "      <th>sku</th>\n",
       "      <th>url_key</th>\n",
       "      <th>discount</th>\n",
       "    </tr>\n",
       "  </thead>\n",
       "  <tbody>\n",
       "    <tr>\n",
       "      <th>0</th>\n",
       "      <td>325 g</td>\n",
       "      <td>Nike Performance</td>\n",
       "      <td>[]</td>\n",
       "      <td>[{'sku': 'N1242A1R4-K11', 'url_key': 'nike-per...</td>\n",
       "      <td>[{'key': 'discountRate', 'value': 'Jusqu’à -30...</td>\n",
       "      <td>False</td>\n",
       "      <td>[{'path': 'N1/24/2A/1R/4K/11/N1242A1R4-K11@5.j...</td>\n",
       "      <td>JOYRIDE RUN FK - Chaussures de running neutres...</td>\n",
       "      <td>NaN</td>\n",
       "      <td>False</td>\n",
       "      <td>True</td>\n",
       "      <td>True</td>\n",
       "      <td>False</td>\n",
       "      <td>179.95</td>\n",
       "      <td>125.95</td>\n",
       "      <td>shoe</td>\n",
       "      <td>[38.5, 40, 40.5, 41, 42, 42.5, 43, 44, 44.5, 4...</td>\n",
       "      <td>N1242A1R4-K11</td>\n",
       "      <td>nike-performance-joyride-run-chaussures-de-run...</td>\n",
       "      <td>54.0</td>\n",
       "    </tr>\n",
       "    <tr>\n",
       "      <th>1</th>\n",
       "      <td>NaN</td>\n",
       "      <td>Nike Performance</td>\n",
       "      <td>[]</td>\n",
       "      <td>[{'sku': 'N1242D2GQ-G11', 'url_key': 'nike-per...</td>\n",
       "      <td>[{'key': 'discountRate', 'value': 'Jusqu’à -20...</td>\n",
       "      <td>False</td>\n",
       "      <td>[{'path': 'N1/24/2D/2G/QG/11/N1242D2GQ-G11@9.j...</td>\n",
       "      <td>AS ROM TEE TRAVEL CREST - Article de supporter...</td>\n",
       "      <td>NaN</td>\n",
       "      <td>False</td>\n",
       "      <td>True</td>\n",
       "      <td>True</td>\n",
       "      <td>False</td>\n",
       "      <td>29.95</td>\n",
       "      <td>23.95</td>\n",
       "      <td>clothing</td>\n",
       "      <td>[S, M, L, XL, XXL]</td>\n",
       "      <td>N1242D2GQ-G11</td>\n",
       "      <td>nike-performance-as-rom-tee-travel-crest-t-shi...</td>\n",
       "      <td>6.0</td>\n",
       "    </tr>\n",
       "  </tbody>\n",
       "</table>\n",
       "</div>"
      ],
      "text/plain": [
       "  amount        brand_name delivery_promises  \\\n",
       "0  325 g  Nike Performance                []   \n",
       "1    NaN  Nike Performance                []   \n",
       "\n",
       "                                     family_articles  \\\n",
       "0  [{'sku': 'N1242A1R4-K11', 'url_key': 'nike-per...   \n",
       "1  [{'sku': 'N1242D2GQ-G11', 'url_key': 'nike-per...   \n",
       "\n",
       "                                               flags  is_premium  \\\n",
       "0  [{'key': 'discountRate', 'value': 'Jusqu’à -30...       False   \n",
       "1  [{'key': 'discountRate', 'value': 'Jusqu’à -20...       False   \n",
       "\n",
       "                                               media  \\\n",
       "0  [{'path': 'N1/24/2A/1R/4K/11/N1242A1R4-K11@5.j...   \n",
       "1  [{'path': 'N1/24/2D/2G/QG/11/N1242D2GQ-G11@9.j...   \n",
       "\n",
       "                                                name outfits  \\\n",
       "0  JOYRIDE RUN FK - Chaussures de running neutres...     NaN   \n",
       "1  AS ROM TEE TRAVEL CREST - Article de supporter...     NaN   \n",
       "\n",
       "   price.has_different_original_prices  price.has_different_prices  \\\n",
       "0                                False                        True   \n",
       "1                                False                        True   \n",
       "\n",
       "   price.has_different_promotional_prices  \\\n",
       "0                                    True   \n",
       "1                                    True   \n",
       "\n",
       "   price.has_discount_on_selected_sizes_only  price.original  \\\n",
       "0                                      False          179.95   \n",
       "1                                      False           29.95   \n",
       "\n",
       "   price.promotional product_group  \\\n",
       "0             125.95          shoe   \n",
       "1              23.95      clothing   \n",
       "\n",
       "                                               sizes            sku  \\\n",
       "0  [38.5, 40, 40.5, 41, 42, 42.5, 43, 44, 44.5, 4...  N1242A1R4-K11   \n",
       "1                                 [S, M, L, XL, XXL]  N1242D2GQ-G11   \n",
       "\n",
       "                                             url_key  discount  \n",
       "0  nike-performance-joyride-run-chaussures-de-run...      54.0  \n",
       "1  nike-performance-as-rom-tee-travel-crest-t-shi...       6.0  "
      ]
     },
     "execution_count": 12,
     "metadata": {},
     "output_type": "execute_result"
    }
   ],
   "source": [
    "final_result['price.original']=final_result['price.original'].replace('[\\€,]', '', regex=True).astype(float)/100\n",
    "final_result['price.promotional']=final_result['price.promotional'].replace('[\\€,]', '', regex=True).astype(float)/100\n",
    "final_result['discount']=final_result['price.original']-final_result['price.promotional']\n",
    "\n",
    "final_result.head(2)\n"
   ]
  },
  {
   "cell_type": "code",
   "execution_count": 13,
   "metadata": {
    "ExecuteTime": {
     "end_time": "2020-02-08T17:37:20.101094Z",
     "start_time": "2020-02-08T17:37:20.055307Z"
    }
   },
   "outputs": [
    {
     "data": {
      "text/html": [
       "<div>\n",
       "<style scoped>\n",
       "    .dataframe tbody tr th:only-of-type {\n",
       "        vertical-align: middle;\n",
       "    }\n",
       "\n",
       "    .dataframe tbody tr th {\n",
       "        vertical-align: top;\n",
       "    }\n",
       "\n",
       "    .dataframe thead th {\n",
       "        text-align: right;\n",
       "    }\n",
       "</style>\n",
       "<table border=\"1\" class=\"dataframe\">\n",
       "  <thead>\n",
       "    <tr style=\"text-align: right;\">\n",
       "      <th></th>\n",
       "      <th>brand_name</th>\n",
       "      <th>discount</th>\n",
       "      <th>Num_Items</th>\n",
       "      <th>avg_discount</th>\n",
       "    </tr>\n",
       "  </thead>\n",
       "  <tbody>\n",
       "    <tr>\n",
       "      <th>26</th>\n",
       "      <td>Colmar</td>\n",
       "      <td>824.00</td>\n",
       "      <td>6</td>\n",
       "      <td>137.333333</td>\n",
       "    </tr>\n",
       "    <tr>\n",
       "      <th>4</th>\n",
       "      <td>Aigle</td>\n",
       "      <td>135.00</td>\n",
       "      <td>1</td>\n",
       "      <td>135.000000</td>\n",
       "    </tr>\n",
       "    <tr>\n",
       "      <th>136</th>\n",
       "      <td>State of Elevenate</td>\n",
       "      <td>215.00</td>\n",
       "      <td>2</td>\n",
       "      <td>107.500000</td>\n",
       "    </tr>\n",
       "    <tr>\n",
       "      <th>110</th>\n",
       "      <td>PYUA</td>\n",
       "      <td>3164.89</td>\n",
       "      <td>31</td>\n",
       "      <td>102.093226</td>\n",
       "    </tr>\n",
       "    <tr>\n",
       "      <th>95</th>\n",
       "      <td>Mo</td>\n",
       "      <td>303.84</td>\n",
       "      <td>3</td>\n",
       "      <td>101.280000</td>\n",
       "    </tr>\n",
       "    <tr>\n",
       "      <th>56</th>\n",
       "      <td>Halti</td>\n",
       "      <td>278.00</td>\n",
       "      <td>3</td>\n",
       "      <td>92.666667</td>\n",
       "    </tr>\n",
       "    <tr>\n",
       "      <th>15</th>\n",
       "      <td>Bogner Fire + Ice</td>\n",
       "      <td>4957.20</td>\n",
       "      <td>55</td>\n",
       "      <td>90.130909</td>\n",
       "    </tr>\n",
       "    <tr>\n",
       "      <th>82</th>\n",
       "      <td>Kjus</td>\n",
       "      <td>1078.00</td>\n",
       "      <td>12</td>\n",
       "      <td>89.833333</td>\n",
       "    </tr>\n",
       "    <tr>\n",
       "      <th>96</th>\n",
       "      <td>Napapijri</td>\n",
       "      <td>806.00</td>\n",
       "      <td>9</td>\n",
       "      <td>89.555556</td>\n",
       "    </tr>\n",
       "    <tr>\n",
       "      <th>75</th>\n",
       "      <td>KARL LAGERFELD</td>\n",
       "      <td>82.50</td>\n",
       "      <td>1</td>\n",
       "      <td>82.500000</td>\n",
       "    </tr>\n",
       "  </tbody>\n",
       "</table>\n",
       "</div>"
      ],
      "text/plain": [
       "             brand_name  discount  Num_Items  avg_discount\n",
       "26               Colmar    824.00          6    137.333333\n",
       "4                 Aigle    135.00          1    135.000000\n",
       "136  State of Elevenate    215.00          2    107.500000\n",
       "110                PYUA   3164.89         31    102.093226\n",
       "95                   Mo    303.84          3    101.280000\n",
       "56                Halti    278.00          3     92.666667\n",
       "15    Bogner Fire + Ice   4957.20         55     90.130909\n",
       "82                 Kjus   1078.00         12     89.833333\n",
       "96            Napapijri    806.00          9     89.555556\n",
       "75       KARL LAGERFELD     82.50          1     82.500000"
      ]
     },
     "execution_count": 13,
     "metadata": {},
     "output_type": "execute_result"
    }
   ],
   "source": [
    "Discounts = final_result.groupby('brand_name', as_index=False)['discount'].sum()\n",
    "Products =final_result.groupby('brand_name', as_index=False)['sku'].count()\n",
    "Agg_disc=Discounts.merge(Products,left_on='brand_name',right_on='brand_name')\n",
    "Agg_disc=Agg_disc.rename(columns={\"sku\": \"Num_Items\"})\n",
    "Agg_disc['avg_discount']=Agg_disc['discount']/Agg_disc['Num_Items']\n",
    "\n",
    "Agg_disc.sort_values(by=['avg_discount'], ascending=False).head(10)"
   ]
  },
  {
   "cell_type": "code",
   "execution_count": 14,
   "metadata": {
    "ExecuteTime": {
     "end_time": "2020-02-08T17:37:23.285657Z",
     "start_time": "2020-02-08T17:37:23.266879Z"
    }
   },
   "outputs": [
    {
     "data": {
      "text/html": [
       "<div>\n",
       "<style scoped>\n",
       "    .dataframe tbody tr th:only-of-type {\n",
       "        vertical-align: middle;\n",
       "    }\n",
       "\n",
       "    .dataframe tbody tr th {\n",
       "        vertical-align: top;\n",
       "    }\n",
       "\n",
       "    .dataframe thead th {\n",
       "        text-align: right;\n",
       "    }\n",
       "</style>\n",
       "<table border=\"1\" class=\"dataframe\">\n",
       "  <thead>\n",
       "    <tr style=\"text-align: right;\">\n",
       "      <th></th>\n",
       "      <th>brand_name</th>\n",
       "      <th>discount</th>\n",
       "      <th>Num_Items</th>\n",
       "      <th>avg_discount</th>\n",
       "    </tr>\n",
       "  </thead>\n",
       "  <tbody>\n",
       "    <tr>\n",
       "      <th>158</th>\n",
       "      <td>camano</td>\n",
       "      <td>1.50</td>\n",
       "      <td>1</td>\n",
       "      <td>1.500000</td>\n",
       "    </tr>\n",
       "    <tr>\n",
       "      <th>153</th>\n",
       "      <td>Your Turn Active</td>\n",
       "      <td>118.60</td>\n",
       "      <td>28</td>\n",
       "      <td>4.235714</td>\n",
       "    </tr>\n",
       "    <tr>\n",
       "      <th>18</th>\n",
       "      <td>Buff</td>\n",
       "      <td>32.15</td>\n",
       "      <td>7</td>\n",
       "      <td>4.592857</td>\n",
       "    </tr>\n",
       "    <tr>\n",
       "      <th>131</th>\n",
       "      <td>Smartwool</td>\n",
       "      <td>41.60</td>\n",
       "      <td>9</td>\n",
       "      <td>4.622222</td>\n",
       "    </tr>\n",
       "    <tr>\n",
       "      <th>33</th>\n",
       "      <td>Derbystar</td>\n",
       "      <td>4.97</td>\n",
       "      <td>1</td>\n",
       "      <td>4.970000</td>\n",
       "    </tr>\n",
       "    <tr>\n",
       "      <th>6</th>\n",
       "      <td>Arena</td>\n",
       "      <td>10.30</td>\n",
       "      <td>2</td>\n",
       "      <td>5.150000</td>\n",
       "    </tr>\n",
       "    <tr>\n",
       "      <th>9</th>\n",
       "      <td>Barts</td>\n",
       "      <td>133.80</td>\n",
       "      <td>24</td>\n",
       "      <td>5.575000</td>\n",
       "    </tr>\n",
       "    <tr>\n",
       "      <th>74</th>\n",
       "      <td>K1X</td>\n",
       "      <td>194.40</td>\n",
       "      <td>28</td>\n",
       "      <td>6.942857</td>\n",
       "    </tr>\n",
       "    <tr>\n",
       "      <th>133</th>\n",
       "      <td>Speedo</td>\n",
       "      <td>7.00</td>\n",
       "      <td>1</td>\n",
       "      <td>7.000000</td>\n",
       "    </tr>\n",
       "    <tr>\n",
       "      <th>49</th>\n",
       "      <td>Forvert</td>\n",
       "      <td>42.00</td>\n",
       "      <td>6</td>\n",
       "      <td>7.000000</td>\n",
       "    </tr>\n",
       "  </tbody>\n",
       "</table>\n",
       "</div>"
      ],
      "text/plain": [
       "           brand_name  discount  Num_Items  avg_discount\n",
       "158            camano      1.50          1      1.500000\n",
       "153  Your Turn Active    118.60         28      4.235714\n",
       "18               Buff     32.15          7      4.592857\n",
       "131         Smartwool     41.60          9      4.622222\n",
       "33          Derbystar      4.97          1      4.970000\n",
       "6               Arena     10.30          2      5.150000\n",
       "9               Barts    133.80         24      5.575000\n",
       "74                K1X    194.40         28      6.942857\n",
       "133            Speedo      7.00          1      7.000000\n",
       "49            Forvert     42.00          6      7.000000"
      ]
     },
     "execution_count": 14,
     "metadata": {},
     "output_type": "execute_result"
    }
   ],
   "source": [
    "Agg_disc.sort_values(by=['avg_discount'], ascending=True).head(10)"
   ]
  },
  {
   "cell_type": "code",
   "execution_count": null,
   "metadata": {},
   "outputs": [],
   "source": []
  },
  {
   "cell_type": "code",
   "execution_count": null,
   "metadata": {},
   "outputs": [],
   "source": []
  }
 ],
 "metadata": {
  "kernelspec": {
   "display_name": "Python 3",
   "language": "python",
   "name": "python3"
  },
  "language_info": {
   "codemirror_mode": {
    "name": "ipython",
    "version": 3
   },
   "file_extension": ".py",
   "mimetype": "text/x-python",
   "name": "python",
   "nbconvert_exporter": "python",
   "pygments_lexer": "ipython3",
   "version": "3.7.4"
  },
  "varInspector": {
   "cols": {
    "lenName": 16,
    "lenType": 16,
    "lenVar": 40
   },
   "kernels_config": {
    "python": {
     "delete_cmd_postfix": "",
     "delete_cmd_prefix": "del ",
     "library": "var_list.py",
     "varRefreshCmd": "print(var_dic_list())"
    },
    "r": {
     "delete_cmd_postfix": ") ",
     "delete_cmd_prefix": "rm(",
     "library": "var_list.r",
     "varRefreshCmd": "cat(var_dic_list()) "
    }
   },
   "types_to_exclude": [
    "module",
    "function",
    "builtin_function_or_method",
    "instance",
    "_Feature"
   ],
   "window_display": false
  }
 },
 "nbformat": 4,
 "nbformat_minor": 2
}
