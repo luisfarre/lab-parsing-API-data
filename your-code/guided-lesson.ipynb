{
 "cells": [
  {
   "cell_type": "markdown",
   "metadata": {},
   "source": [
    "# Parsing APIs Example"
   ]
  },
  {
   "cell_type": "markdown",
   "metadata": {},
   "source": [
    "## Intro\n",
    "\n",
    "Now we will take a look on a real data. When you parse data from web you will often meet API based web-pages. \n",
    "\n",
    "For example [zalando.fr](https://www.zalando.fr/accueil-homme/) is API based web-page. \n",
    "\n",
    "In this guided lab you will learn how to obtain the links from webpages and extract the data. Read through this doc, execute the cells in order and make sure you understand the explanations. \n",
    "\n",
    "*Note: This guided lab uses Google Chrome. Other browsers like Safari and Firefox have similar tools for developers but they work differently. To save your time in following this lab, it is strongly recommended that you install and use Google Chrome.*"
   ]
  },
  {
   "cell_type": "markdown",
   "metadata": {},
   "source": [
    "## Obtaining the link\n",
    "\n",
    "Zalando is discount e-store where you can buy clothes and accesories with discount. When we go to the web-page, we can choose different sections. First the general process will be shown using [Children section](https://www.zalando.fr/accueil-enfant/) as example.\n",
    "\n",
    "Here we will parse data about promotions only. Therefore, final output will be the DataFrame with all the goods under discount.\n",
    "\n",
    "[![Image from Gyazo](https://i.gyazo.com/fa4874d8e81c7570273bbfb853d66308.png)](https://gyazo.com/fa4874d8e81c7570273bbfb853d66308)\n",
    "\n",
    "\n",
    "We go to Promos page. Right click of mouse shows us a list of actions possible, from which we select Inspect.\n",
    "\n",
    "<img src='https://i.gyazo.com/bccbd11d69c9040dc98758d443e32052.png' width=\"400\">\n",
    "\n",
    "\n",
    "You will see the menu dropdown on the right side or on the bottom of the window. There you should click on Network:\n",
    "\n",
    "\n",
    "[![Image from Gyazo](https://i.gyazo.com/f7e0db81cbfee67694183d1a7640bf81.png)](https://gyazo.com/f7e0db81cbfee67694183d1a7640bf81)"
   ]
  },
  {
   "cell_type": "markdown",
   "metadata": {},
   "source": [
    "Right after the developer part will change showing the files behind the page. In order to obtain only useful files we select the following settings:\n",
    "1. Preserve Log\n",
    "2. Select XHR files.\n",
    "\n",
    "[![Image from Gyazo](https://i.gyazo.com/9a899d4441d9d93e795f79747f1e47d5.png)](https://gyazo.com/9a899d4441d9d93e795f79747f1e47d5)\n",
    "\n",
    "In order to obtain some files we need to scrool down and go forward to second page. \n",
    "\n",
    "[![Image from Gyazo](https://i.gyazo.com/0956eb3d5125075a236c9a439c7749c7.png)](https://gyazo.com/0956eb3d5125075a236c9a439c7749c7)\n",
    "\n",
    "In the Network panel you can see the following files being uploaded. All the data on the web-page is uploaded from the json file, which is one of the following. It is important to understand which file contains what kind of information. \n",
    "\n",
    "<a href=\"https://gyazo.com/cf97a655869f0b22df0ada1cb2a41c3c\"><img src=\"https://i.gyazo.com/cf97a655869f0b22df0ada1cb2a41c3c.png\" alt=\"Image from Gyazo\" width=\"724.8\"/></a>\n",
    "\n",
    "When you find what kind of information you need for the data to be uploaded you just test it. Here we need the article... file:\n",
    "\n",
    "<a href=\"https://gyazo.com/78b35bf492994b3f35c0564a21da202a\"><img src=\"https://i.gyazo.com/78b35bf492994b3f35c0564a21da202a.png\" alt=\"Image from Gyazo\" width=\"727.2\"/></a>\n",
    "\n",
    "When we test the link in Chrome inkognito mode we obtain the proper json file:\n",
    "\n",
    "\n",
    "<a href=\"https://gyazo.com/b60453fa98454fa29771c731a5174443\"><img src=\"https://i.gyazo.com/b60453fa98454fa29771c731a5174443.png\" alt=\"Image from Gyazo\" width=\"1530.4\"/></a>"
   ]
  },
  {
   "cell_type": "markdown",
   "metadata": {},
   "source": [
    "In order to change the objects in the json file (kind of pagination), you need to change the offset (the number of the first element on the page). in fact, if you take a look on the link, it is easy to unerstand the structure of the link.\n",
    "\n",
    "# Reading the data\n",
    "\n",
    "Now the party rocks! When we know how can we obtain the data, it is not a problem to obtain the whole database with all the data from the web-page.\n",
    "In this lab you will collect your database of Zalando products. You select which goods you want to track. You can define as many filters to your data as you want. Just make sure that the data represents the filters.\n",
    "\n",
    "\n"
   ]
  },
  {
   "cell_type": "code",
   "execution_count": 35,
   "metadata": {
    "ExecuteTime": {
     "end_time": "2020-02-08T17:23:41.513206Z",
     "start_time": "2020-02-08T17:23:41.507115Z"
    }
   },
   "outputs": [],
   "source": [
    "import json\n",
    "import requests\n",
    "import pandas as pd\n",
    "from pandas.io.json import json_normalize\n"
   ]
  },
  {
   "cell_type": "code",
   "execution_count": 36,
   "metadata": {
    "ExecuteTime": {
     "end_time": "2020-02-08T17:23:42.254273Z",
     "start_time": "2020-02-08T17:23:42.246974Z"
    }
   },
   "outputs": [],
   "source": [
    "# Paste the url you obtained for your data\n",
    "url='https://www.zalando.fr/api/catalog/articles?categories=promo-enfant&limit=84&offset=84&sort=sale'\n",
    "headers = {'user-agent': 'Mozilla/5.0 (Macintosh; Intel Mac OS X 10_14_6) AppleWebKit/537.36 (KHTML, like Gecko) Chrome/79.0.3945.130 Safari/537.36'}\n"
   ]
  },
  {
   "cell_type": "markdown",
   "metadata": {},
   "source": [
    "#### Collect first 84 object of the of the data (1st page)\n",
    "\n",
    "Your output should be a Pandas DataFrame of goods. Each row should contain only text or numbers, having *family_articles, flags, media* and *sizes* remaining lists (they are exceptions). Hint: use the headers parameter to get the data!"
   ]
  },
  {
   "cell_type": "code",
   "execution_count": 37,
   "metadata": {
    "ExecuteTime": {
     "end_time": "2020-02-08T17:23:43.481519Z",
     "start_time": "2020-02-08T17:23:42.810817Z"
    }
   },
   "outputs": [
    {
     "data": {
      "text/plain": [
       "<Response [200]>"
      ]
     },
     "execution_count": 37,
     "metadata": {},
     "output_type": "execute_result"
    }
   ],
   "source": [
    "# headers definition\n",
    "response = requests.get(url,headers=headers)\n",
    "response"
   ]
  },
  {
   "cell_type": "code",
   "execution_count": 38,
   "metadata": {
    "ExecuteTime": {
     "end_time": "2020-02-08T17:23:44.245505Z",
     "start_time": "2020-02-08T17:23:44.006451Z"
    }
   },
   "outputs": [
    {
     "data": {
      "text/html": [
       "<div>\n",
       "<style scoped>\n",
       "    .dataframe tbody tr th:only-of-type {\n",
       "        vertical-align: middle;\n",
       "    }\n",
       "\n",
       "    .dataframe tbody tr th {\n",
       "        vertical-align: top;\n",
       "    }\n",
       "\n",
       "    .dataframe thead th {\n",
       "        text-align: right;\n",
       "    }\n",
       "</style>\n",
       "<table border=\"1\" class=\"dataframe\">\n",
       "  <thead>\n",
       "    <tr style=\"text-align: right;\">\n",
       "      <th></th>\n",
       "      <th>total_count</th>\n",
       "      <th>sort</th>\n",
       "      <th>articles</th>\n",
       "      <th>query_path</th>\n",
       "      <th>previous_page_path</th>\n",
       "      <th>next_page_path</th>\n",
       "      <th>page_gender</th>\n",
       "      <th>premium</th>\n",
       "      <th>filters</th>\n",
       "      <th>total_article_count</th>\n",
       "      <th>...</th>\n",
       "      <th>iconPaths.filters.standard_delivery_filter</th>\n",
       "      <th>iconPaths.filters.fast_delivery_filter</th>\n",
       "      <th>iconPaths.filters.zalando_plus</th>\n",
       "      <th>iconPaths.mobileFilters.standard_delivery_filter</th>\n",
       "      <th>iconPaths.mobileFilters.fast_delivery_filter</th>\n",
       "      <th>iconPaths.mobileFilters.zalando_plus</th>\n",
       "      <th>iconPaths.flags.slow_delivery_flag</th>\n",
       "      <th>iconPaths.flags.fast_delivery_flag</th>\n",
       "      <th>iconPaths.flags.plus_delivery_flag</th>\n",
       "      <th>iconPaths.flags.zalando_plus</th>\n",
       "    </tr>\n",
       "  </thead>\n",
       "  <tbody>\n",
       "    <tr>\n",
       "      <th>0</th>\n",
       "      <td>22059</td>\n",
       "      <td>sale</td>\n",
       "      <td>[{'sku': 'NI114D0AV-A11', 'name': 'AIR MAX 200...</td>\n",
       "      <td>/promo-enfant/?p=2&amp;order=sale</td>\n",
       "      <td>/promo-enfant/?order=sale</td>\n",
       "      <td>/promo-enfant/?p=3&amp;order=sale</td>\n",
       "      <td>kids</td>\n",
       "      <td>False</td>\n",
       "      <td>[{'key': 'sizes', 'label': 'Taille', 'url_key'...</td>\n",
       "      <td>22066</td>\n",
       "      <td>...</td>\n",
       "      <td>icons/truck.svg</td>\n",
       "      <td>icons/truck-fast.svg</td>\n",
       "      <td>icons/plus-short-1.svg</td>\n",
       "      <td>icons/truck.svg</td>\n",
       "      <td>icons/truck-fast.svg</td>\n",
       "      <td>icons/plus-short-1.svg</td>\n",
       "      <td>icons/clock.svg</td>\n",
       "      <td>icons/truck-fast-orange-3.svg</td>\n",
       "      <td>icons/plus-short-1.svg</td>\n",
       "      <td>icons/zalando-plus.svg</td>\n",
       "    </tr>\n",
       "  </tbody>\n",
       "</table>\n",
       "<p>1 rows × 77 columns</p>\n",
       "</div>"
      ],
      "text/plain": [
       "   total_count  sort                                           articles  \\\n",
       "0        22059  sale  [{'sku': 'NI114D0AV-A11', 'name': 'AIR MAX 200...   \n",
       "\n",
       "                      query_path         previous_page_path  \\\n",
       "0  /promo-enfant/?p=2&order=sale  /promo-enfant/?order=sale   \n",
       "\n",
       "                  next_page_path page_gender  premium  \\\n",
       "0  /promo-enfant/?p=3&order=sale        kids    False   \n",
       "\n",
       "                                             filters  total_article_count  \\\n",
       "0  [{'key': 'sizes', 'label': 'Taille', 'url_key'...                22066   \n",
       "\n",
       "   ... iconPaths.filters.standard_delivery_filter  \\\n",
       "0  ...                            icons/truck.svg   \n",
       "\n",
       "  iconPaths.filters.fast_delivery_filter iconPaths.filters.zalando_plus  \\\n",
       "0                   icons/truck-fast.svg         icons/plus-short-1.svg   \n",
       "\n",
       "  iconPaths.mobileFilters.standard_delivery_filter  \\\n",
       "0                                  icons/truck.svg   \n",
       "\n",
       "   iconPaths.mobileFilters.fast_delivery_filter  \\\n",
       "0                          icons/truck-fast.svg   \n",
       "\n",
       "  iconPaths.mobileFilters.zalando_plus iconPaths.flags.slow_delivery_flag  \\\n",
       "0               icons/plus-short-1.svg                    icons/clock.svg   \n",
       "\n",
       "   iconPaths.flags.fast_delivery_flag iconPaths.flags.plus_delivery_flag  \\\n",
       "0       icons/truck-fast-orange-3.svg             icons/plus-short-1.svg   \n",
       "\n",
       "   iconPaths.flags.zalando_plus  \n",
       "0        icons/zalando-plus.svg  \n",
       "\n",
       "[1 rows x 77 columns]"
      ]
     },
     "execution_count": 38,
     "metadata": {},
     "output_type": "execute_result"
    }
   ],
   "source": [
    "# Your code\n",
    "result=response.json()\n",
    "result\n",
    "data=pd.DataFrame(json_normalize(result))\n",
    "data.head()\n",
    "\n"
   ]
  },
  {
   "cell_type": "code",
   "execution_count": 39,
   "metadata": {
    "ExecuteTime": {
     "end_time": "2020-02-08T17:23:44.839400Z",
     "start_time": "2020-02-08T17:23:44.781484Z"
    }
   },
   "outputs": [
    {
     "data": {
      "text/html": [
       "<div>\n",
       "<style scoped>\n",
       "    .dataframe tbody tr th:only-of-type {\n",
       "        vertical-align: middle;\n",
       "    }\n",
       "\n",
       "    .dataframe tbody tr th {\n",
       "        vertical-align: top;\n",
       "    }\n",
       "\n",
       "    .dataframe thead th {\n",
       "        text-align: right;\n",
       "    }\n",
       "</style>\n",
       "<table border=\"1\" class=\"dataframe\">\n",
       "  <thead>\n",
       "    <tr style=\"text-align: right;\">\n",
       "      <th></th>\n",
       "      <th>sku</th>\n",
       "      <th>name</th>\n",
       "      <th>sizes</th>\n",
       "      <th>url_key</th>\n",
       "      <th>media</th>\n",
       "      <th>brand_name</th>\n",
       "      <th>is_premium</th>\n",
       "      <th>family_articles</th>\n",
       "      <th>flags</th>\n",
       "      <th>product_group</th>\n",
       "      <th>delivery_promises</th>\n",
       "      <th>price.original</th>\n",
       "      <th>price.promotional</th>\n",
       "      <th>price.has_different_prices</th>\n",
       "      <th>price.has_different_original_prices</th>\n",
       "      <th>price.has_different_promotional_prices</th>\n",
       "      <th>price.has_discount_on_selected_sizes_only</th>\n",
       "      <th>amount</th>\n",
       "    </tr>\n",
       "  </thead>\n",
       "  <tbody>\n",
       "    <tr>\n",
       "      <th>0</th>\n",
       "      <td>NI114D0AV-A11</td>\n",
       "      <td>AIR MAX 200 - Baskets basses - white/black/bri...</td>\n",
       "      <td>[17, 18.5, 19.5, 21, 22, 23.5, 25]</td>\n",
       "      <td>nike-sportswear-air-max-200-baskets-basses-ni1...</td>\n",
       "      <td>[{'path': 'NI/11/4D/0A/VA/11/NI114D0AV-A11@11....</td>\n",
       "      <td>Nike Sportswear</td>\n",
       "      <td>False</td>\n",
       "      <td>[{'sku': 'NI114D0AV-A11', 'url_key': 'nike-spo...</td>\n",
       "      <td>[{'key': 'discountRate', 'value': 'Jusqu’à -15...</td>\n",
       "      <td>shoe</td>\n",
       "      <td>[]</td>\n",
       "      <td>59,95 €</td>\n",
       "      <td>50,95 €</td>\n",
       "      <td>True</td>\n",
       "      <td>False</td>\n",
       "      <td>True</td>\n",
       "      <td>False</td>\n",
       "      <td>NaN</td>\n",
       "    </tr>\n",
       "    <tr>\n",
       "      <th>1</th>\n",
       "      <td>NA824O01P-K11</td>\n",
       "      <td>NKMSNOW03 JACKET BLOCK  - Veste d'hiver - dark...</td>\n",
       "      <td>[8a, 9a, 10a, 11a, 12a, 13a, 14a]</td>\n",
       "      <td>name-it-nkmsnow03-jacket-block-veste-dhiver-da...</td>\n",
       "      <td>[{'path': 'NA/82/4O/01/PK/11/NA824O01P-K11@4.j...</td>\n",
       "      <td>Name it</td>\n",
       "      <td>False</td>\n",
       "      <td>[{'sku': 'NA824O01P-K11', 'url_key': 'name-it-...</td>\n",
       "      <td>[{'key': 'discountRate', 'value': 'Jusqu’à -60...</td>\n",
       "      <td>clothing</td>\n",
       "      <td>[]</td>\n",
       "      <td>49,99 €</td>\n",
       "      <td>19,99 €</td>\n",
       "      <td>True</td>\n",
       "      <td>False</td>\n",
       "      <td>True</td>\n",
       "      <td>False</td>\n",
       "      <td>NaN</td>\n",
       "    </tr>\n",
       "  </tbody>\n",
       "</table>\n",
       "</div>"
      ],
      "text/plain": [
       "             sku                                               name  \\\n",
       "0  NI114D0AV-A11  AIR MAX 200 - Baskets basses - white/black/bri...   \n",
       "1  NA824O01P-K11  NKMSNOW03 JACKET BLOCK  - Veste d'hiver - dark...   \n",
       "\n",
       "                                sizes  \\\n",
       "0  [17, 18.5, 19.5, 21, 22, 23.5, 25]   \n",
       "1   [8a, 9a, 10a, 11a, 12a, 13a, 14a]   \n",
       "\n",
       "                                             url_key  \\\n",
       "0  nike-sportswear-air-max-200-baskets-basses-ni1...   \n",
       "1  name-it-nkmsnow03-jacket-block-veste-dhiver-da...   \n",
       "\n",
       "                                               media       brand_name  \\\n",
       "0  [{'path': 'NI/11/4D/0A/VA/11/NI114D0AV-A11@11....  Nike Sportswear   \n",
       "1  [{'path': 'NA/82/4O/01/PK/11/NA824O01P-K11@4.j...          Name it   \n",
       "\n",
       "   is_premium                                    family_articles  \\\n",
       "0       False  [{'sku': 'NI114D0AV-A11', 'url_key': 'nike-spo...   \n",
       "1       False  [{'sku': 'NA824O01P-K11', 'url_key': 'name-it-...   \n",
       "\n",
       "                                               flags product_group  \\\n",
       "0  [{'key': 'discountRate', 'value': 'Jusqu’à -15...          shoe   \n",
       "1  [{'key': 'discountRate', 'value': 'Jusqu’à -60...      clothing   \n",
       "\n",
       "  delivery_promises price.original price.promotional  \\\n",
       "0                []        59,95 €           50,95 €   \n",
       "1                []        49,99 €           19,99 €   \n",
       "\n",
       "   price.has_different_prices  price.has_different_original_prices  \\\n",
       "0                        True                                False   \n",
       "1                        True                                False   \n",
       "\n",
       "   price.has_different_promotional_prices  \\\n",
       "0                                    True   \n",
       "1                                    True   \n",
       "\n",
       "   price.has_discount_on_selected_sizes_only amount  \n",
       "0                                      False    NaN  \n",
       "1                                      False    NaN  "
      ]
     },
     "execution_count": 39,
     "metadata": {},
     "output_type": "execute_result"
    }
   ],
   "source": [
    "data2=json_normalize(data['articles'][0])\n",
    "data2.head(2)"
   ]
  },
  {
   "cell_type": "markdown",
   "metadata": {},
   "source": [
    "#### Collect all the objects from selected filters. Total number of pages can be found in the same json. Use *sku* column as index.\n",
    "\n",
    "Your output should be a Pandas DataFrame of goods. Each row should contain only text or numbers, having family_articles, flags, media and sizes remaining lists (they are exceptions)."
   ]
  },
  {
   "cell_type": "code",
   "execution_count": 40,
   "metadata": {
    "ExecuteTime": {
     "end_time": "2020-02-08T17:23:45.344091Z",
     "start_time": "2020-02-08T17:23:45.339335Z"
    }
   },
   "outputs": [
    {
     "data": {
      "text/plain": [
       "22059"
      ]
     },
     "execution_count": 40,
     "metadata": {},
     "output_type": "execute_result"
    }
   ],
   "source": [
    "total_articles=result['total_count']\n",
    "total_articles"
   ]
  },
  {
   "cell_type": "code",
   "execution_count": 67,
   "metadata": {
    "ExecuteTime": {
     "end_time": "2020-02-08T17:35:18.537054Z",
     "start_time": "2020-02-08T17:32:55.678576Z"
    }
   },
   "outputs": [],
   "source": [
    "# Get the total number of pages\n",
    "total_articles=result['total_count']\n",
    "articles_page=result['pagination']['per_page']\n",
    "calls_api=[i for i in range(84,total_articles+1,articles_page)]\n",
    "calls_api.append(total_articles-calls_api[-1]+calls_api[-1])\n",
    "final_result=pd.DataFrame()\n",
    "for i in calls_api:\n",
    "    if i%84==0:\n",
    "        url=f'https://www.zalando.fr/api/catalog/articles?categories=promo-enfant&limit=84&offset={i}&sort=sale'\n",
    "    else:\n",
    "        x=calls_api[-1]-calls_api[-2]\n",
    "        url=f'https://www.zalando.fr/api/catalog/articles?categories=promo-enfant&limit={x}&offset={i}&sort=sale'        \n",
    "    \n",
    "    response = requests.get(url,headers=headers)\n",
    "    result=response.json()\n",
    "    data=pd.DataFrame(json_normalize(result))\n",
    "    data2=json_normalize(data['articles'][0])\n",
    "    final_result=final_result.append(data2)\n",
    "    \n"
   ]
  },
  {
   "cell_type": "code",
   "execution_count": 68,
   "metadata": {
    "ExecuteTime": {
     "end_time": "2020-02-08T17:35:25.469744Z",
     "start_time": "2020-02-08T17:35:25.462919Z"
    }
   },
   "outputs": [
    {
     "data": {
      "text/plain": [
       "(21964, 19)"
      ]
     },
     "execution_count": 68,
     "metadata": {},
     "output_type": "execute_result"
    }
   ],
   "source": [
    "final_result.shape"
   ]
  },
  {
   "cell_type": "code",
   "execution_count": 69,
   "metadata": {
    "ExecuteTime": {
     "end_time": "2020-02-08T17:35:26.672110Z",
     "start_time": "2020-02-08T17:35:26.662972Z"
    }
   },
   "outputs": [
    {
     "data": {
      "text/plain": [
       "Index(['amount', 'brand_name', 'delivery_promises', 'family_articles', 'flags',\n",
       "       'is_premium', 'media', 'name', 'price.base_price',\n",
       "       'price.has_different_original_prices', 'price.has_different_prices',\n",
       "       'price.has_different_promotional_prices',\n",
       "       'price.has_discount_on_selected_sizes_only', 'price.original',\n",
       "       'price.promotional', 'product_group', 'sizes', 'sku', 'url_key'],\n",
       "      dtype='object')"
      ]
     },
     "execution_count": 69,
     "metadata": {},
     "output_type": "execute_result"
    }
   ],
   "source": [
    "final_result.columns"
   ]
  },
  {
   "cell_type": "markdown",
   "metadata": {},
   "source": [
    "#### Display the trending brand in DataFrame"
   ]
  },
  {
   "cell_type": "code",
   "execution_count": 70,
   "metadata": {
    "ExecuteTime": {
     "end_time": "2020-02-08T17:35:27.933965Z",
     "start_time": "2020-02-08T17:35:27.864205Z"
    }
   },
   "outputs": [
    {
     "data": {
      "text/html": [
       "<div>\n",
       "<style scoped>\n",
       "    .dataframe tbody tr th:only-of-type {\n",
       "        vertical-align: middle;\n",
       "    }\n",
       "\n",
       "    .dataframe tbody tr th {\n",
       "        vertical-align: top;\n",
       "    }\n",
       "\n",
       "    .dataframe thead th {\n",
       "        text-align: right;\n",
       "    }\n",
       "</style>\n",
       "<table border=\"1\" class=\"dataframe\">\n",
       "  <thead>\n",
       "    <tr style=\"text-align: right;\">\n",
       "      <th></th>\n",
       "      <th>brand_name</th>\n",
       "      <th>Num_Items</th>\n",
       "    </tr>\n",
       "  </thead>\n",
       "  <tbody>\n",
       "    <tr>\n",
       "      <th>196</th>\n",
       "      <td>Name it</td>\n",
       "      <td>1021</td>\n",
       "    </tr>\n",
       "    <tr>\n",
       "      <th>96</th>\n",
       "      <td>GAP</td>\n",
       "      <td>717</td>\n",
       "    </tr>\n",
       "    <tr>\n",
       "      <th>83</th>\n",
       "      <td>Esprit</td>\n",
       "      <td>674</td>\n",
       "    </tr>\n",
       "    <tr>\n",
       "      <th>25</th>\n",
       "      <td>Boboli</td>\n",
       "      <td>669</td>\n",
       "    </tr>\n",
       "    <tr>\n",
       "      <th>15</th>\n",
       "      <td>Benetton</td>\n",
       "      <td>532</td>\n",
       "    </tr>\n",
       "    <tr>\n",
       "      <th>91</th>\n",
       "      <td>Friboo</td>\n",
       "      <td>523</td>\n",
       "    </tr>\n",
       "    <tr>\n",
       "      <th>213</th>\n",
       "      <td>OVS</td>\n",
       "      <td>512</td>\n",
       "    </tr>\n",
       "    <tr>\n",
       "      <th>206</th>\n",
       "      <td>Nike Sportswear</td>\n",
       "      <td>419</td>\n",
       "    </tr>\n",
       "    <tr>\n",
       "      <th>333</th>\n",
       "      <td>adidas Performance</td>\n",
       "      <td>417</td>\n",
       "    </tr>\n",
       "    <tr>\n",
       "      <th>204</th>\n",
       "      <td>Nike Performance</td>\n",
       "      <td>398</td>\n",
       "    </tr>\n",
       "  </tbody>\n",
       "</table>\n",
       "</div>"
      ],
      "text/plain": [
       "             brand_name  Num_Items\n",
       "196             Name it       1021\n",
       "96                  GAP        717\n",
       "83               Esprit        674\n",
       "25               Boboli        669\n",
       "15             Benetton        532\n",
       "91               Friboo        523\n",
       "213                 OVS        512\n",
       "206     Nike Sportswear        419\n",
       "333  adidas Performance        417\n",
       "204    Nike Performance        398"
      ]
     },
     "execution_count": 70,
     "metadata": {},
     "output_type": "execute_result"
    }
   ],
   "source": [
    "Brand = final_result.groupby('brand_name', as_index=False)['sku'].count()\n",
    "Brand=Brand.rename(columns={\"sku\": \"Num_Items\"})\n",
    "Brand.sort_values(by=['Num_Items'], ascending=False).head(10)\n"
   ]
  },
  {
   "cell_type": "markdown",
   "metadata": {},
   "source": [
    "#### Display the brand with maximal total discount (sum of discounts on all goods)"
   ]
  },
  {
   "cell_type": "code",
   "execution_count": 71,
   "metadata": {
    "ExecuteTime": {
     "end_time": "2020-02-08T17:35:29.133505Z",
     "start_time": "2020-02-08T17:35:29.070995Z"
    }
   },
   "outputs": [
    {
     "data": {
      "text/html": [
       "<div>\n",
       "<style scoped>\n",
       "    .dataframe tbody tr th:only-of-type {\n",
       "        vertical-align: middle;\n",
       "    }\n",
       "\n",
       "    .dataframe tbody tr th {\n",
       "        vertical-align: top;\n",
       "    }\n",
       "\n",
       "    .dataframe thead th {\n",
       "        text-align: right;\n",
       "    }\n",
       "</style>\n",
       "<table border=\"1\" class=\"dataframe\">\n",
       "  <thead>\n",
       "    <tr style=\"text-align: right;\">\n",
       "      <th></th>\n",
       "      <th>amount</th>\n",
       "      <th>brand_name</th>\n",
       "      <th>delivery_promises</th>\n",
       "      <th>family_articles</th>\n",
       "      <th>flags</th>\n",
       "      <th>is_premium</th>\n",
       "      <th>media</th>\n",
       "      <th>name</th>\n",
       "      <th>price.base_price</th>\n",
       "      <th>price.has_different_original_prices</th>\n",
       "      <th>price.has_different_prices</th>\n",
       "      <th>price.has_different_promotional_prices</th>\n",
       "      <th>price.has_discount_on_selected_sizes_only</th>\n",
       "      <th>price.original</th>\n",
       "      <th>price.promotional</th>\n",
       "      <th>product_group</th>\n",
       "      <th>sizes</th>\n",
       "      <th>sku</th>\n",
       "      <th>url_key</th>\n",
       "    </tr>\n",
       "  </thead>\n",
       "  <tbody>\n",
       "    <tr>\n",
       "      <th>0</th>\n",
       "      <td>NaN</td>\n",
       "      <td>Name it</td>\n",
       "      <td>[]</td>\n",
       "      <td>[{'sku': 'NA824O01P-K11', 'url_key': 'name-it-...</td>\n",
       "      <td>[{'key': 'discountRate', 'value': 'Jusqu’à -60...</td>\n",
       "      <td>False</td>\n",
       "      <td>[{'path': 'NA/82/4O/01/PK/11/NA824O01P-K11@4.j...</td>\n",
       "      <td>NKMSNOW03 JACKET BLOCK  - Veste d'hiver - dark...</td>\n",
       "      <td>NaN</td>\n",
       "      <td>False</td>\n",
       "      <td>True</td>\n",
       "      <td>True</td>\n",
       "      <td>False</td>\n",
       "      <td>49,99 €</td>\n",
       "      <td>19,99 €</td>\n",
       "      <td>clothing</td>\n",
       "      <td>[8a, 9a, 10a, 11a, 12a, 13a, 14a]</td>\n",
       "      <td>NA824O01P-K11</td>\n",
       "      <td>name-it-nkmsnow03-jacket-block-veste-dhiver-da...</td>\n",
       "    </tr>\n",
       "    <tr>\n",
       "      <th>1</th>\n",
       "      <td>NaN</td>\n",
       "      <td>Levi's®</td>\n",
       "      <td>[]</td>\n",
       "      <td>[{'sku': 'LE223A054-Q12', 'url_key': 'levisr-7...</td>\n",
       "      <td>[{'key': 'discountRate', 'value': '-20%', 'tra...</td>\n",
       "      <td>False</td>\n",
       "      <td>[{'path': 'LE/22/3A/05/4Q/12/LE223A054-Q12@4.j...</td>\n",
       "      <td>710 SUPER SKINNY - Jeans Skinny - meteorite</td>\n",
       "      <td>NaN</td>\n",
       "      <td>False</td>\n",
       "      <td>True</td>\n",
       "      <td>True</td>\n",
       "      <td>False</td>\n",
       "      <td>44,95 €</td>\n",
       "      <td>35,95 €</td>\n",
       "      <td>clothing</td>\n",
       "      <td>[3a, 4a, 6a, 8a, 10a, 12a, 14a, 16a]</td>\n",
       "      <td>LE223A054-Q12</td>\n",
       "      <td>levisr-710-super-skinny-jeans-skinny-le223a054...</td>\n",
       "    </tr>\n",
       "  </tbody>\n",
       "</table>\n",
       "</div>"
      ],
      "text/plain": [
       "  amount brand_name delivery_promises  \\\n",
       "0    NaN    Name it                []   \n",
       "1    NaN    Levi's®                []   \n",
       "\n",
       "                                     family_articles  \\\n",
       "0  [{'sku': 'NA824O01P-K11', 'url_key': 'name-it-...   \n",
       "1  [{'sku': 'LE223A054-Q12', 'url_key': 'levisr-7...   \n",
       "\n",
       "                                               flags  is_premium  \\\n",
       "0  [{'key': 'discountRate', 'value': 'Jusqu’à -60...       False   \n",
       "1  [{'key': 'discountRate', 'value': '-20%', 'tra...       False   \n",
       "\n",
       "                                               media  \\\n",
       "0  [{'path': 'NA/82/4O/01/PK/11/NA824O01P-K11@4.j...   \n",
       "1  [{'path': 'LE/22/3A/05/4Q/12/LE223A054-Q12@4.j...   \n",
       "\n",
       "                                                name price.base_price  \\\n",
       "0  NKMSNOW03 JACKET BLOCK  - Veste d'hiver - dark...              NaN   \n",
       "1        710 SUPER SKINNY - Jeans Skinny - meteorite              NaN   \n",
       "\n",
       "   price.has_different_original_prices  price.has_different_prices  \\\n",
       "0                                False                        True   \n",
       "1                                False                        True   \n",
       "\n",
       "   price.has_different_promotional_prices  \\\n",
       "0                                    True   \n",
       "1                                    True   \n",
       "\n",
       "   price.has_discount_on_selected_sizes_only price.original price.promotional  \\\n",
       "0                                      False        49,99 €           19,99 €   \n",
       "1                                      False        44,95 €           35,95 €   \n",
       "\n",
       "  product_group                                 sizes            sku  \\\n",
       "0      clothing     [8a, 9a, 10a, 11a, 12a, 13a, 14a]  NA824O01P-K11   \n",
       "1      clothing  [3a, 4a, 6a, 8a, 10a, 12a, 14a, 16a]  LE223A054-Q12   \n",
       "\n",
       "                                             url_key  \n",
       "0  name-it-nkmsnow03-jacket-block-veste-dhiver-da...  \n",
       "1  levisr-710-super-skinny-jeans-skinny-le223a054...  "
      ]
     },
     "execution_count": 71,
     "metadata": {},
     "output_type": "execute_result"
    }
   ],
   "source": [
    "final_result.head(2)"
   ]
  },
  {
   "cell_type": "code",
   "execution_count": 72,
   "metadata": {
    "ExecuteTime": {
     "end_time": "2020-02-08T17:35:29.951720Z",
     "start_time": "2020-02-08T17:35:29.781331Z"
    }
   },
   "outputs": [
    {
     "data": {
      "text/html": [
       "<div>\n",
       "<style scoped>\n",
       "    .dataframe tbody tr th:only-of-type {\n",
       "        vertical-align: middle;\n",
       "    }\n",
       "\n",
       "    .dataframe tbody tr th {\n",
       "        vertical-align: top;\n",
       "    }\n",
       "\n",
       "    .dataframe thead th {\n",
       "        text-align: right;\n",
       "    }\n",
       "</style>\n",
       "<table border=\"1\" class=\"dataframe\">\n",
       "  <thead>\n",
       "    <tr style=\"text-align: right;\">\n",
       "      <th></th>\n",
       "      <th>amount</th>\n",
       "      <th>brand_name</th>\n",
       "      <th>delivery_promises</th>\n",
       "      <th>family_articles</th>\n",
       "      <th>flags</th>\n",
       "      <th>is_premium</th>\n",
       "      <th>media</th>\n",
       "      <th>name</th>\n",
       "      <th>price.base_price</th>\n",
       "      <th>price.has_different_original_prices</th>\n",
       "      <th>price.has_different_prices</th>\n",
       "      <th>price.has_different_promotional_prices</th>\n",
       "      <th>price.has_discount_on_selected_sizes_only</th>\n",
       "      <th>price.original</th>\n",
       "      <th>price.promotional</th>\n",
       "      <th>product_group</th>\n",
       "      <th>sizes</th>\n",
       "      <th>sku</th>\n",
       "      <th>url_key</th>\n",
       "      <th>discount</th>\n",
       "    </tr>\n",
       "  </thead>\n",
       "  <tbody>\n",
       "    <tr>\n",
       "      <th>0</th>\n",
       "      <td>NaN</td>\n",
       "      <td>Name it</td>\n",
       "      <td>[]</td>\n",
       "      <td>[{'sku': 'NA824O01P-K11', 'url_key': 'name-it-...</td>\n",
       "      <td>[{'key': 'discountRate', 'value': 'Jusqu’à -60...</td>\n",
       "      <td>False</td>\n",
       "      <td>[{'path': 'NA/82/4O/01/PK/11/NA824O01P-K11@4.j...</td>\n",
       "      <td>NKMSNOW03 JACKET BLOCK  - Veste d'hiver - dark...</td>\n",
       "      <td>NaN</td>\n",
       "      <td>False</td>\n",
       "      <td>True</td>\n",
       "      <td>True</td>\n",
       "      <td>False</td>\n",
       "      <td>49.99</td>\n",
       "      <td>19.99</td>\n",
       "      <td>clothing</td>\n",
       "      <td>[8a, 9a, 10a, 11a, 12a, 13a, 14a]</td>\n",
       "      <td>NA824O01P-K11</td>\n",
       "      <td>name-it-nkmsnow03-jacket-block-veste-dhiver-da...</td>\n",
       "      <td>30.0</td>\n",
       "    </tr>\n",
       "    <tr>\n",
       "      <th>1</th>\n",
       "      <td>NaN</td>\n",
       "      <td>Levi's®</td>\n",
       "      <td>[]</td>\n",
       "      <td>[{'sku': 'LE223A054-Q12', 'url_key': 'levisr-7...</td>\n",
       "      <td>[{'key': 'discountRate', 'value': '-20%', 'tra...</td>\n",
       "      <td>False</td>\n",
       "      <td>[{'path': 'LE/22/3A/05/4Q/12/LE223A054-Q12@4.j...</td>\n",
       "      <td>710 SUPER SKINNY - Jeans Skinny - meteorite</td>\n",
       "      <td>NaN</td>\n",
       "      <td>False</td>\n",
       "      <td>True</td>\n",
       "      <td>True</td>\n",
       "      <td>False</td>\n",
       "      <td>44.95</td>\n",
       "      <td>35.95</td>\n",
       "      <td>clothing</td>\n",
       "      <td>[3a, 4a, 6a, 8a, 10a, 12a, 14a, 16a]</td>\n",
       "      <td>LE223A054-Q12</td>\n",
       "      <td>levisr-710-super-skinny-jeans-skinny-le223a054...</td>\n",
       "      <td>9.0</td>\n",
       "    </tr>\n",
       "  </tbody>\n",
       "</table>\n",
       "</div>"
      ],
      "text/plain": [
       "  amount brand_name delivery_promises  \\\n",
       "0    NaN    Name it                []   \n",
       "1    NaN    Levi's®                []   \n",
       "\n",
       "                                     family_articles  \\\n",
       "0  [{'sku': 'NA824O01P-K11', 'url_key': 'name-it-...   \n",
       "1  [{'sku': 'LE223A054-Q12', 'url_key': 'levisr-7...   \n",
       "\n",
       "                                               flags  is_premium  \\\n",
       "0  [{'key': 'discountRate', 'value': 'Jusqu’à -60...       False   \n",
       "1  [{'key': 'discountRate', 'value': '-20%', 'tra...       False   \n",
       "\n",
       "                                               media  \\\n",
       "0  [{'path': 'NA/82/4O/01/PK/11/NA824O01P-K11@4.j...   \n",
       "1  [{'path': 'LE/22/3A/05/4Q/12/LE223A054-Q12@4.j...   \n",
       "\n",
       "                                                name price.base_price  \\\n",
       "0  NKMSNOW03 JACKET BLOCK  - Veste d'hiver - dark...              NaN   \n",
       "1        710 SUPER SKINNY - Jeans Skinny - meteorite              NaN   \n",
       "\n",
       "   price.has_different_original_prices  price.has_different_prices  \\\n",
       "0                                False                        True   \n",
       "1                                False                        True   \n",
       "\n",
       "   price.has_different_promotional_prices  \\\n",
       "0                                    True   \n",
       "1                                    True   \n",
       "\n",
       "   price.has_discount_on_selected_sizes_only  price.original  \\\n",
       "0                                      False           49.99   \n",
       "1                                      False           44.95   \n",
       "\n",
       "   price.promotional product_group                                 sizes  \\\n",
       "0              19.99      clothing     [8a, 9a, 10a, 11a, 12a, 13a, 14a]   \n",
       "1              35.95      clothing  [3a, 4a, 6a, 8a, 10a, 12a, 14a, 16a]   \n",
       "\n",
       "             sku                                            url_key  discount  \n",
       "0  NA824O01P-K11  name-it-nkmsnow03-jacket-block-veste-dhiver-da...      30.0  \n",
       "1  LE223A054-Q12  levisr-710-super-skinny-jeans-skinny-le223a054...       9.0  "
      ]
     },
     "execution_count": 72,
     "metadata": {},
     "output_type": "execute_result"
    }
   ],
   "source": [
    "#Our data is still text. Convert prices into numbers.\n",
    "# your code\n",
    "final_result['price.original']=final_result['price.original'].replace('[\\€,]', '', regex=True).astype(float)/100\n",
    "final_result['price.promotional']=final_result['price.promotional'].replace('[\\€,]', '', regex=True).astype(float)/100\n",
    "\n",
    "final_result['discount']=final_result['price.original']-final_result['price.promotional']\n",
    "\n",
    "final_result.head(2)\n",
    "\n"
   ]
  },
  {
   "cell_type": "code",
   "execution_count": 73,
   "metadata": {
    "ExecuteTime": {
     "end_time": "2020-02-08T17:35:30.886444Z",
     "start_time": "2020-02-08T17:35:30.815502Z"
    }
   },
   "outputs": [
    {
     "data": {
      "text/html": [
       "<div>\n",
       "<style scoped>\n",
       "    .dataframe tbody tr th:only-of-type {\n",
       "        vertical-align: middle;\n",
       "    }\n",
       "\n",
       "    .dataframe tbody tr th {\n",
       "        vertical-align: top;\n",
       "    }\n",
       "\n",
       "    .dataframe thead th {\n",
       "        text-align: right;\n",
       "    }\n",
       "</style>\n",
       "<table border=\"1\" class=\"dataframe\">\n",
       "  <thead>\n",
       "    <tr style=\"text-align: right;\">\n",
       "      <th></th>\n",
       "      <th>brand_name</th>\n",
       "      <th>discount</th>\n",
       "      <th>Num_Items</th>\n",
       "      <th>avg_discount</th>\n",
       "    </tr>\n",
       "  </thead>\n",
       "  <tbody>\n",
       "    <tr>\n",
       "      <th>186</th>\n",
       "      <td>Missoni Kids</td>\n",
       "      <td>450.00</td>\n",
       "      <td>4</td>\n",
       "      <td>112.500000</td>\n",
       "    </tr>\n",
       "    <tr>\n",
       "      <th>263</th>\n",
       "      <td>Schmuddelwedda</td>\n",
       "      <td>189.43</td>\n",
       "      <td>2</td>\n",
       "      <td>94.715000</td>\n",
       "    </tr>\n",
       "    <tr>\n",
       "      <th>149</th>\n",
       "      <td>Kjus</td>\n",
       "      <td>481.00</td>\n",
       "      <td>6</td>\n",
       "      <td>80.166667</td>\n",
       "    </tr>\n",
       "    <tr>\n",
       "      <th>281</th>\n",
       "      <td>Spyder</td>\n",
       "      <td>130.00</td>\n",
       "      <td>2</td>\n",
       "      <td>65.000000</td>\n",
       "    </tr>\n",
       "    <tr>\n",
       "      <th>318</th>\n",
       "      <td>Voile Blanche</td>\n",
       "      <td>61.50</td>\n",
       "      <td>1</td>\n",
       "      <td>61.500000</td>\n",
       "    </tr>\n",
       "    <tr>\n",
       "      <th>319</th>\n",
       "      <td>Volcom</td>\n",
       "      <td>59.00</td>\n",
       "      <td>1</td>\n",
       "      <td>59.000000</td>\n",
       "    </tr>\n",
       "    <tr>\n",
       "      <th>170</th>\n",
       "      <td>Lowa</td>\n",
       "      <td>767.00</td>\n",
       "      <td>14</td>\n",
       "      <td>54.785714</td>\n",
       "    </tr>\n",
       "    <tr>\n",
       "      <th>343</th>\n",
       "      <td>myMo</td>\n",
       "      <td>3054.55</td>\n",
       "      <td>56</td>\n",
       "      <td>54.545536</td>\n",
       "    </tr>\n",
       "    <tr>\n",
       "      <th>51</th>\n",
       "      <td>Colmar Originals</td>\n",
       "      <td>814.00</td>\n",
       "      <td>15</td>\n",
       "      <td>54.266667</td>\n",
       "    </tr>\n",
       "    <tr>\n",
       "      <th>27</th>\n",
       "      <td>Bomboogie</td>\n",
       "      <td>377.00</td>\n",
       "      <td>7</td>\n",
       "      <td>53.857143</td>\n",
       "    </tr>\n",
       "  </tbody>\n",
       "</table>\n",
       "</div>"
      ],
      "text/plain": [
       "           brand_name  discount  Num_Items  avg_discount\n",
       "186      Missoni Kids    450.00          4    112.500000\n",
       "263    Schmuddelwedda    189.43          2     94.715000\n",
       "149              Kjus    481.00          6     80.166667\n",
       "281            Spyder    130.00          2     65.000000\n",
       "318     Voile Blanche     61.50          1     61.500000\n",
       "319            Volcom     59.00          1     59.000000\n",
       "170              Lowa    767.00         14     54.785714\n",
       "343              myMo   3054.55         56     54.545536\n",
       "51   Colmar Originals    814.00         15     54.266667\n",
       "27          Bomboogie    377.00          7     53.857143"
      ]
     },
     "execution_count": 73,
     "metadata": {},
     "output_type": "execute_result"
    }
   ],
   "source": [
    "Discounts = final_result.groupby('brand_name', as_index=False)['discount'].sum()\n",
    "Products =final_result.groupby('brand_name', as_index=False)['sku'].count()\n",
    "Agg_disc=Discounts.merge(Products,left_on='brand_name',right_on='brand_name')\n",
    "Agg_disc=Agg_disc.rename(columns={\"sku\": \"Num_Items\"})\n",
    "Agg_disc['avg_discount']=Agg_disc['discount']/Agg_disc['Num_Items']\n",
    "\n",
    "Agg_disc.sort_values(by=['avg_discount'], ascending=False).head(10)"
   ]
  },
  {
   "cell_type": "markdown",
   "metadata": {},
   "source": [
    "#### Display the brands without discount at all"
   ]
  },
  {
   "cell_type": "code",
   "execution_count": 74,
   "metadata": {
    "ExecuteTime": {
     "end_time": "2020-02-08T17:35:32.844541Z",
     "start_time": "2020-02-08T17:35:32.827681Z"
    }
   },
   "outputs": [
    {
     "data": {
      "text/html": [
       "<div>\n",
       "<style scoped>\n",
       "    .dataframe tbody tr th:only-of-type {\n",
       "        vertical-align: middle;\n",
       "    }\n",
       "\n",
       "    .dataframe tbody tr th {\n",
       "        vertical-align: top;\n",
       "    }\n",
       "\n",
       "    .dataframe thead th {\n",
       "        text-align: right;\n",
       "    }\n",
       "</style>\n",
       "<table border=\"1\" class=\"dataframe\">\n",
       "  <thead>\n",
       "    <tr style=\"text-align: right;\">\n",
       "      <th></th>\n",
       "      <th>brand_name</th>\n",
       "      <th>discount</th>\n",
       "      <th>Num_Items</th>\n",
       "      <th>avg_discount</th>\n",
       "    </tr>\n",
       "  </thead>\n",
       "  <tbody>\n",
       "    <tr>\n",
       "      <th>109</th>\n",
       "      <td>Havaianas</td>\n",
       "      <td>10.60</td>\n",
       "      <td>4</td>\n",
       "      <td>2.650000</td>\n",
       "    </tr>\n",
       "    <tr>\n",
       "      <th>335</th>\n",
       "      <td>camano</td>\n",
       "      <td>63.15</td>\n",
       "      <td>21</td>\n",
       "      <td>3.007143</td>\n",
       "    </tr>\n",
       "    <tr>\n",
       "      <th>62</th>\n",
       "      <td>DIM</td>\n",
       "      <td>75.20</td>\n",
       "      <td>24</td>\n",
       "      <td>3.133333</td>\n",
       "    </tr>\n",
       "    <tr>\n",
       "      <th>202</th>\n",
       "      <td>New Look 915 Generation</td>\n",
       "      <td>187.16</td>\n",
       "      <td>59</td>\n",
       "      <td>3.172203</td>\n",
       "    </tr>\n",
       "    <tr>\n",
       "      <th>84</th>\n",
       "      <td>Ewers</td>\n",
       "      <td>142.15</td>\n",
       "      <td>42</td>\n",
       "      <td>3.384524</td>\n",
       "    </tr>\n",
       "    <tr>\n",
       "      <th>273</th>\n",
       "      <td>Skip Hop</td>\n",
       "      <td>49.10</td>\n",
       "      <td>13</td>\n",
       "      <td>3.776923</td>\n",
       "    </tr>\n",
       "    <tr>\n",
       "      <th>68</th>\n",
       "      <td>Deuter</td>\n",
       "      <td>3.80</td>\n",
       "      <td>1</td>\n",
       "      <td>3.800000</td>\n",
       "    </tr>\n",
       "    <tr>\n",
       "      <th>28</th>\n",
       "      <td>Bonds</td>\n",
       "      <td>243.65</td>\n",
       "      <td>63</td>\n",
       "      <td>3.867460</td>\n",
       "    </tr>\n",
       "    <tr>\n",
       "      <th>331</th>\n",
       "      <td>Zip and Zoe</td>\n",
       "      <td>11.80</td>\n",
       "      <td>3</td>\n",
       "      <td>3.933333</td>\n",
       "    </tr>\n",
       "    <tr>\n",
       "      <th>201</th>\n",
       "      <td>New Era</td>\n",
       "      <td>189.10</td>\n",
       "      <td>48</td>\n",
       "      <td>3.939583</td>\n",
       "    </tr>\n",
       "  </tbody>\n",
       "</table>\n",
       "</div>"
      ],
      "text/plain": [
       "                  brand_name  discount  Num_Items  avg_discount\n",
       "109                Havaianas     10.60          4      2.650000\n",
       "335                   camano     63.15         21      3.007143\n",
       "62                       DIM     75.20         24      3.133333\n",
       "202  New Look 915 Generation    187.16         59      3.172203\n",
       "84                     Ewers    142.15         42      3.384524\n",
       "273                 Skip Hop     49.10         13      3.776923\n",
       "68                    Deuter      3.80          1      3.800000\n",
       "28                     Bonds    243.65         63      3.867460\n",
       "331              Zip and Zoe     11.80          3      3.933333\n",
       "201                  New Era    189.10         48      3.939583"
      ]
     },
     "execution_count": 74,
     "metadata": {},
     "output_type": "execute_result"
    }
   ],
   "source": [
    "# your code\n",
    "Agg_disc.sort_values(by=['avg_discount'], ascending=True).head(10)"
   ]
  },
  {
   "cell_type": "code",
   "execution_count": null,
   "metadata": {},
   "outputs": [],
   "source": []
  }
 ],
 "metadata": {
  "kernelspec": {
   "display_name": "Python 3",
   "language": "python",
   "name": "python3"
  },
  "language_info": {
   "codemirror_mode": {
    "name": "ipython",
    "version": 3
   },
   "file_extension": ".py",
   "mimetype": "text/x-python",
   "name": "python",
   "nbconvert_exporter": "python",
   "pygments_lexer": "ipython3",
   "version": "3.7.4"
  },
  "varInspector": {
   "cols": {
    "lenName": 16,
    "lenType": 16,
    "lenVar": 40
   },
   "kernels_config": {
    "python": {
     "delete_cmd_postfix": "",
     "delete_cmd_prefix": "del ",
     "library": "var_list.py",
     "varRefreshCmd": "print(var_dic_list())"
    },
    "r": {
     "delete_cmd_postfix": ") ",
     "delete_cmd_prefix": "rm(",
     "library": "var_list.r",
     "varRefreshCmd": "cat(var_dic_list()) "
    }
   },
   "types_to_exclude": [
    "module",
    "function",
    "builtin_function_or_method",
    "instance",
    "_Feature"
   ],
   "window_display": false
  }
 },
 "nbformat": 4,
 "nbformat_minor": 2
}
